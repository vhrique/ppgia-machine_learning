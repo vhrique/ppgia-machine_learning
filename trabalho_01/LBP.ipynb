{
 "cells": [
  {
   "cell_type": "code",
   "execution_count": null,
   "metadata": {},
   "outputs": [],
   "source": [
    "import cv2\n",
    "import numpy as np\n",
    "import pandas as pd\n",
    "import re\n",
    "import math\n",
    "\n",
    "from skimage import feature\n",
    "from imutils import paths"
   ]
  },
  {
   "cell_type": "code",
   "execution_count": null,
   "metadata": {},
   "outputs": [],
   "source": [
    "def label(n):\n",
    "    return {\n",
    "        0: 'c1',\n",
    "        1: 'c2',\n",
    "        2: 'c3',\n",
    "        3: 'c4',\n",
    "        4: 'c5',\n",
    "        5: 'c6',\n",
    "        6: 'c7',\n",
    "        7: 'c8',\n",
    "        8: 'c9',\n",
    "        9: 'c10'\n",
    "    }[n]"
   ]
  },
  {
   "cell_type": "code",
   "execution_count": 3,
   "metadata": {},
   "outputs": [],
   "source": [
    "X = []\n",
    "for arquivo in paths.list_images('images'):\n",
    "    imagem = cv2.imread(arquivo)\n",
    "    altura, largura, _ = imagem.shape\n",
    "    classe = math.floor(int(re.sub(\"\\D\", \"\", arquivo.split(\"\\\\\")[1]))/100)\n",
    "\n",
    "    cinza = cv2.cvtColor(imagem, cv2.COLOR_BGR2GRAY)\n",
    "    rgb   = cv2.cvtColor(imagem, cv2.COLOR_BGR2RGB)\n",
    "        \n",
    "    r_histograma = cv2.calcHist([rgb], [0], None, [256], [0, 256])/(altura*largura)\n",
    "    g_histograma = cv2.calcHist([rgb], [1], None, [256], [0, 256])/(altura*largura)\n",
    "    b_histograma = cv2.calcHist([rgb], [2], None, [256], [0, 256])/(altura*largura)\n",
    "    \n",
    "    lbp = feature.local_binary_pattern(cinza, 1e-7, 8, method=\"uniform\")\n",
    "    (lbp_histograma, _) = np.histogram(lbp.ravel(), bins=np.arange(0, 27), range=(0, 26))\n",
    "    lbp_histograma = lbp_histograma.astype(\"float\")\n",
    "    lbp_histograma /= (lbp_histograma.sum() + 24)\n",
    "\n",
    "    X_image = [r_histograma, g_histograma, b_histograma, lbp_histograma]\n",
    "    \n",
    "    X_image_aux = []\n",
    "    for aux in X_image:\n",
    "        X_image_aux = np.append(X_image_aux, np.ravel(aux))\n",
    "    \n",
    "    X_image = [i for i in X_image_aux]\n",
    "    X_image.append(label(classe))\n",
    "    \n",
    "    X.append(X_image)"
   ]
  },
  {
   "cell_type": "code",
   "execution_count": null,
   "metadata": {},
   "outputs": [],
   "source": [
    "df = pd.DataFrame(X)\n",
    "df.to_csv('feat.csv', header=False, index=False)"
   ]
  }
 ],
 "metadata": {
  "kernelspec": {
   "display_name": "Python 3",
   "language": "python",
   "name": "python3"
  }
 },
 "nbformat": 4,
 "nbformat_minor": 2
}
